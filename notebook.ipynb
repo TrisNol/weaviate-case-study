{
 "cells": [
  {
   "cell_type": "code",
   "execution_count": 2,
   "metadata": {},
   "outputs": [],
   "source": [
    "import weaviate\n",
    "\n",
    "WEAVIATE_URL= \"http://localhost:8080\" # Default for provided docker-compose, update as required\n",
    "\n",
    "client = weaviate.Client(WEAVIATE_URL)"
   ]
  },
  {
   "cell_type": "code",
   "execution_count": 6,
   "metadata": {},
   "outputs": [
    {
     "data": {
      "text/plain": [
       "{'nodes': [{'gitHash': '37d3b17',\n",
       "   'name': '2bd8d4be2db7',\n",
       "   'shards': [{'class': 'Tweet', 'name': 'g8M4muTZvPt2', 'objectCount': 5007},\n",
       "    {'class': 'Hashtag', 'name': 'DYhFOqvPrSL3', 'objectCount': 726},\n",
       "    {'class': 'Mention', 'name': 'Z4ub47kNCzyn', 'objectCount': 2247}],\n",
       "   'stats': {'objectCount': 7980, 'shardCount': 3},\n",
       "   'status': 'HEALTHY',\n",
       "   'version': '1.17.0'},\n",
       "  {'gitHash': '37d3b17',\n",
       "   'name': 'e0781a971dd0',\n",
       "   'shards': [{'class': 'Hashtag', 'name': 'DYhFOqvPrSL3', 'objectCount': 726},\n",
       "    {'class': 'Mention', 'name': 'Z4ub47kNCzyn', 'objectCount': 2247},\n",
       "    {'class': 'Tweet', 'name': 'g8M4muTZvPt2', 'objectCount': 5007}],\n",
       "   'stats': {'objectCount': 7980, 'shardCount': 3},\n",
       "   'status': 'HEALTHY',\n",
       "   'version': '1.17.0'}]}"
      ]
     },
     "execution_count": 6,
     "metadata": {},
     "output_type": "execute_result"
    }
   ],
   "source": [
    "import json\n",
    "import requests\n",
    "\n",
    "result = requests.get(f\"{WEAVIATE_URL}/v1/nodes/\",headers={\"Content-Type\": \"application/json\"})\n",
    "json.loads(result.text)"
   ]
  },
  {
   "attachments": {},
   "cell_type": "markdown",
   "metadata": {},
   "source": [
    "## Data Exploration\n"
   ]
  },
  {
   "cell_type": "code",
   "execution_count": 2,
   "metadata": {},
   "outputs": [],
   "source": [
    "import pandas as pd\n",
    "import numpy as np\n",
    "import matplotlib.pyplot as plt\n",
    "from tqdm import tqdm\n",
    "\n",
    "tqdm.pandas()"
   ]
  },
  {
   "cell_type": "code",
   "execution_count": 3,
   "metadata": {},
   "outputs": [
    {
     "data": {
      "text/html": [
       "<div>\n",
       "<style scoped>\n",
       "    .dataframe tbody tr th:only-of-type {\n",
       "        vertical-align: middle;\n",
       "    }\n",
       "\n",
       "    .dataframe tbody tr th {\n",
       "        vertical-align: top;\n",
       "    }\n",
       "\n",
       "    .dataframe thead th {\n",
       "        text-align: right;\n",
       "    }\n",
       "</style>\n",
       "<table border=\"1\" class=\"dataframe\">\n",
       "  <thead>\n",
       "    <tr style=\"text-align: right;\">\n",
       "      <th></th>\n",
       "      <th>Tweet</th>\n",
       "      <th>Primary_Category</th>\n",
       "      <th>Secondary_Category</th>\n",
       "    </tr>\n",
       "  </thead>\n",
       "  <tbody>\n",
       "    <tr>\n",
       "      <th>0</th>\n",
       "      <td>@corinnamilborn Liebe Corinna, wir würden dich...</td>\n",
       "      <td>OTHER</td>\n",
       "      <td>OTHER</td>\n",
       "    </tr>\n",
       "    <tr>\n",
       "      <th>1</th>\n",
       "      <td>@Martin28a Sie haben ja auch Recht. Unser Twee...</td>\n",
       "      <td>OTHER</td>\n",
       "      <td>OTHER</td>\n",
       "    </tr>\n",
       "    <tr>\n",
       "      <th>2</th>\n",
       "      <td>@ahrens_theo fröhlicher gruß aus der schönsten...</td>\n",
       "      <td>OTHER</td>\n",
       "      <td>OTHER</td>\n",
       "    </tr>\n",
       "    <tr>\n",
       "      <th>3</th>\n",
       "      <td>@dushanwegner Amis hätten alles und jeden gewä...</td>\n",
       "      <td>OTHER</td>\n",
       "      <td>OTHER</td>\n",
       "    </tr>\n",
       "    <tr>\n",
       "      <th>4</th>\n",
       "      <td>@spdde kein verläßlicher Verhandlungspartner. ...</td>\n",
       "      <td>OFFENSE</td>\n",
       "      <td>INSULT</td>\n",
       "    </tr>\n",
       "  </tbody>\n",
       "</table>\n",
       "</div>"
      ],
      "text/plain": [
       "                                               Tweet Primary_Category  \\\n",
       "0  @corinnamilborn Liebe Corinna, wir würden dich...            OTHER   \n",
       "1  @Martin28a Sie haben ja auch Recht. Unser Twee...            OTHER   \n",
       "2  @ahrens_theo fröhlicher gruß aus der schönsten...            OTHER   \n",
       "3  @dushanwegner Amis hätten alles und jeden gewä...            OTHER   \n",
       "4  @spdde kein verläßlicher Verhandlungspartner. ...          OFFENSE   \n",
       "\n",
       "  Secondary_Category  \n",
       "0              OTHER  \n",
       "1              OTHER  \n",
       "2              OTHER  \n",
       "3              OTHER  \n",
       "4             INSULT  "
      ]
     },
     "execution_count": 3,
     "metadata": {},
     "output_type": "execute_result"
    }
   ],
   "source": [
    "df = pd.read_csv(\"./data/germeval2018.training.txt\", delimiter=\"\\t\",\n",
    "                 header=None, names=[\"Tweet\", \"Primary_Category\", \"Secondary_Category\"])\n",
    "df.head()"
   ]
  },
  {
   "cell_type": "code",
   "execution_count": 4,
   "metadata": {},
   "outputs": [
    {
     "data": {
      "text/plain": [
       "<AxesSubplot: >"
      ]
     },
     "execution_count": 4,
     "metadata": {},
     "output_type": "execute_result"
    },
    {
     "data": {
      "image/png": "[encoded data removed]",
      "text/plain": [
       "<Figure size 640x480 with 1 Axes>"
      ]
     },
     "metadata": {},
     "output_type": "display_data"
    }
   ],
   "source": [
    "df.Primary_Category.value_counts().plot.bar()"
   ]
  },
  {
   "cell_type": "code",
   "execution_count": 5,
   "metadata": {},
   "outputs": [
    {
     "data": {
      "text/plain": [
       "<AxesSubplot: >"
      ]
     },
     "execution_count": 5,
     "metadata": {},
     "output_type": "execute_result"
    },
    {
     "data": {
      "image/png": "[encoded data removed]",
      "text/plain": [
       "<Figure size 640x480 with 1 Axes>"
      ]
     },
     "metadata": {},
     "output_type": "display_data"
    }
   ],
   "source": [
    "df.Secondary_Category.value_counts().plot.bar()"
   ]
  },
  {
   "attachments": {},
   "cell_type": "markdown",
   "metadata": {},
   "source": [
    "## Data Cleansing\n"
   ]
  },
  {
   "cell_type": "code",
   "execution_count": 6,
   "metadata": {},
   "outputs": [
    {
     "name": "stderr",
     "output_type": "stream",
     "text": [
      "100%|██████████| 5009/5009 [00:00<00:00, 198827.14it/s]\n",
      "100%|██████████| 5009/5009 [00:00<00:00, 1250030.86it/s]\n"
     ]
    },
    {
     "data": {
      "text/html": [
       "<div>\n",
       "<style scoped>\n",
       "    .dataframe tbody tr th:only-of-type {\n",
       "        vertical-align: middle;\n",
       "    }\n",
       "\n",
       "    .dataframe tbody tr th {\n",
       "        vertical-align: top;\n",
       "    }\n",
       "\n",
       "    .dataframe thead th {\n",
       "        text-align: right;\n",
       "    }\n",
       "</style>\n",
       "<table border=\"1\" class=\"dataframe\">\n",
       "  <thead>\n",
       "    <tr style=\"text-align: right;\">\n",
       "      <th></th>\n",
       "      <th>Tweet</th>\n",
       "      <th>Primary_Category</th>\n",
       "      <th>Secondary_Category</th>\n",
       "      <th>Hashtags</th>\n",
       "    </tr>\n",
       "  </thead>\n",
       "  <tbody>\n",
       "    <tr>\n",
       "      <th>0</th>\n",
       "      <td>@corinnamilborn Liebe Corinna, wir würden dich...</td>\n",
       "      <td>OTHER</td>\n",
       "      <td>OTHER</td>\n",
       "      <td>[]</td>\n",
       "    </tr>\n",
       "    <tr>\n",
       "      <th>1</th>\n",
       "      <td>@Martin28a Sie haben ja auch Recht. Unser Twee...</td>\n",
       "      <td>OTHER</td>\n",
       "      <td>OTHER</td>\n",
       "      <td>[]</td>\n",
       "    </tr>\n",
       "    <tr>\n",
       "      <th>2</th>\n",
       "      <td>@ahrens_theo fröhlicher gruß aus der schönsten...</td>\n",
       "      <td>OTHER</td>\n",
       "      <td>OTHER</td>\n",
       "      <td>[]</td>\n",
       "    </tr>\n",
       "    <tr>\n",
       "      <th>3</th>\n",
       "      <td>@dushanwegner Amis hätten alles und jeden gewä...</td>\n",
       "      <td>OTHER</td>\n",
       "      <td>OTHER</td>\n",
       "      <td>[]</td>\n",
       "    </tr>\n",
       "    <tr>\n",
       "      <th>4</th>\n",
       "      <td>@spdde kein verläßlicher Verhandlungspartner. ...</td>\n",
       "      <td>OFFENSE</td>\n",
       "      <td>INSULT</td>\n",
       "      <td>[#SPD]</td>\n",
       "    </tr>\n",
       "  </tbody>\n",
       "</table>\n",
       "</div>"
      ],
      "text/plain": [
       "                                               Tweet Primary_Category  \\\n",
       "0  @corinnamilborn Liebe Corinna, wir würden dich...            OTHER   \n",
       "1  @Martin28a Sie haben ja auch Recht. Unser Twee...            OTHER   \n",
       "2  @ahrens_theo fröhlicher gruß aus der schönsten...            OTHER   \n",
       "3  @dushanwegner Amis hätten alles und jeden gewä...            OTHER   \n",
       "4  @spdde kein verläßlicher Verhandlungspartner. ...          OFFENSE   \n",
       "\n",
       "  Secondary_Category Hashtags  \n",
       "0              OTHER       []  \n",
       "1              OTHER       []  \n",
       "2              OTHER       []  \n",
       "3              OTHER       []  \n",
       "4             INSULT   [#SPD]  "
      ]
     },
     "execution_count": 6,
     "metadata": {},
     "output_type": "execute_result"
    }
   ],
   "source": [
    "import re\n",
    "\n",
    "def retrieve_hashtags(text: str, regex = r\"\\B(\\#[a-zA-Z_\\-0-9]+\\b)\"):\n",
    "    return re.findall(regex, text)\n",
    "\n",
    "def remove_hashtags(text: str):\n",
    "    return text.replace('#', '')\n",
    "\n",
    "\n",
    "\n",
    "df['Hashtags'] = df.Tweet.progress_apply(retrieve_hashtags)\n",
    "df.Tweet = df.Tweet.progress_apply(remove_hashtags)\n",
    "df.head()"
   ]
  },
  {
   "cell_type": "code",
   "execution_count": 7,
   "metadata": {},
   "outputs": [],
   "source": [
    "from HanTa import HanoverTagger as ht\n",
    "\n",
    "tagger = ht.HanoverTagger('morphmodel_ger.pgz')"
   ]
  },
  {
   "cell_type": "code",
   "execution_count": 8,
   "metadata": {},
   "outputs": [
    {
     "data": {
      "text/plain": [
       "'Hallo -- ich spielen am früh morgen und gehen dann zu einem Freund -- auf Wiedersehen'"
      ]
     },
     "execution_count": 8,
     "metadata": {},
     "output_type": "execute_result"
    }
   ],
   "source": [
    "from nltk.tokenize import word_tokenize\n",
    "from nltk.stem import WordNetLemmatizer\n",
    "\n",
    "lemmatzer = WordNetLemmatizer()\n",
    "\n",
    "\n",
    "def text_cleansing(text: str) -> str:\n",
    "    # Tokenizing\n",
    "    text_tokens = word_tokenize(text)\n",
    "    # Lemmatising\n",
    "    text_tokens_lemmatized = [tagger.analyze(\n",
    "        token)[0] for token in text_tokens]\n",
    "    return \" \".join(text_tokens_lemmatized)\n",
    "\n",
    "\n",
    "text_cleansing(\n",
    "    \"Hallo. Ich spielte am frühen Morgen und ging dann zu einem Freund. Auf Wiedersehen\")\n"
   ]
  },
  {
   "cell_type": "code",
   "execution_count": 9,
   "metadata": {},
   "outputs": [
    {
     "name": "stderr",
     "output_type": "stream",
     "text": [
      "100%|██████████| 5009/5009 [00:00<00:00, 173479.78it/s]\n",
      "100%|██████████| 5009/5009 [00:00<00:00, 195487.79it/s]\n",
      "100%|██████████| 5009/5009 [00:32<00:00, 155.40it/s]\n"
     ]
    },
    {
     "data": {
      "text/html": [
       "<div>\n",
       "<style scoped>\n",
       "    .dataframe tbody tr th:only-of-type {\n",
       "        vertical-align: middle;\n",
       "    }\n",
       "\n",
       "    .dataframe tbody tr th {\n",
       "        vertical-align: top;\n",
       "    }\n",
       "\n",
       "    .dataframe thead th {\n",
       "        text-align: right;\n",
       "    }\n",
       "</style>\n",
       "<table border=\"1\" class=\"dataframe\">\n",
       "  <thead>\n",
       "    <tr style=\"text-align: right;\">\n",
       "      <th></th>\n",
       "      <th>Tweet</th>\n",
       "      <th>Primary_Category</th>\n",
       "      <th>Secondary_Category</th>\n",
       "      <th>Hashtags</th>\n",
       "      <th>Mentions</th>\n",
       "    </tr>\n",
       "  </thead>\n",
       "  <tbody>\n",
       "    <tr>\n",
       "      <th>0</th>\n",
       "      <td>Liebe Corinna -- wir werden dich gerne als Mod...</td>\n",
       "      <td>OTHER</td>\n",
       "      <td>OTHER</td>\n",
       "      <td>[]</td>\n",
       "      <td>[@corinnamilborn]</td>\n",
       "    </tr>\n",
       "    <tr>\n",
       "      <th>1</th>\n",
       "      <td>sie haben ja auch Recht -- unser Tweet sein et...</td>\n",
       "      <td>OTHER</td>\n",
       "      <td>OTHER</td>\n",
       "      <td>[]</td>\n",
       "      <td>[@Martin28a]</td>\n",
       "    </tr>\n",
       "    <tr>\n",
       "      <th>2</th>\n",
       "      <td>fröhlich Gruß aus der schön Stadt der Welt The...</td>\n",
       "      <td>OTHER</td>\n",
       "      <td>OTHER</td>\n",
       "      <td>[]</td>\n",
       "      <td>[@ahrens_theo]</td>\n",
       "    </tr>\n",
       "    <tr>\n",
       "      <th>3</th>\n",
       "      <td>Amis haben alles und jeden wählen -- nur Hilla...</td>\n",
       "      <td>OTHER</td>\n",
       "      <td>OTHER</td>\n",
       "      <td>[]</td>\n",
       "      <td>[@dushanwegner]</td>\n",
       "    </tr>\n",
       "    <tr>\n",
       "      <th>4</th>\n",
       "      <td>kein verläßlich Verhandlungspartner -- Nachkar...</td>\n",
       "      <td>OFFENSE</td>\n",
       "      <td>INSULT</td>\n",
       "      <td>[#SPD]</td>\n",
       "      <td>[@spdde]</td>\n",
       "    </tr>\n",
       "  </tbody>\n",
       "</table>\n",
       "</div>"
      ],
      "text/plain": [
       "                                               Tweet Primary_Category  \\\n",
       "0  Liebe Corinna -- wir werden dich gerne als Mod...            OTHER   \n",
       "1  sie haben ja auch Recht -- unser Tweet sein et...            OTHER   \n",
       "2  fröhlich Gruß aus der schön Stadt der Welt The...            OTHER   \n",
       "3  Amis haben alles und jeden wählen -- nur Hilla...            OTHER   \n",
       "4  kein verläßlich Verhandlungspartner -- Nachkar...          OFFENSE   \n",
       "\n",
       "  Secondary_Category Hashtags           Mentions  \n",
       "0              OTHER       []  [@corinnamilborn]  \n",
       "1              OTHER       []       [@Martin28a]  \n",
       "2              OTHER       []     [@ahrens_theo]  \n",
       "3              OTHER       []    [@dushanwegner]  \n",
       "4             INSULT   [#SPD]           [@spdde]  "
      ]
     },
     "execution_count": 9,
     "metadata": {},
     "output_type": "execute_result"
    }
   ],
   "source": [
    "def retrieve_mentions(text: str, regex=r\"\\B(\\@[a-zA-Z_\\-0-9]+\\b)\"):\n",
    "    return re.findall(regex, text)\n",
    "\n",
    "\n",
    "def remove_mentions(text: str, regex=r\"\\B(\\@[a-zA-Z_\\-0-9]+\\b)\"):\n",
    "    return re.sub(regex, '', text)\n",
    "\n",
    "\n",
    "df['Mentions'] = df.Tweet.progress_apply(retrieve_mentions)\n",
    "df.Tweet = df.Tweet.progress_apply(remove_mentions)\n",
    "df.Tweet = df.Tweet.progress_apply(text_cleansing)\n",
    "df.head()\n"
   ]
  },
  {
   "cell_type": "code",
   "execution_count": 10,
   "metadata": {},
   "outputs": [],
   "source": [
    "client.schema.delete_all()"
   ]
  },
  {
   "attachments": {},
   "cell_type": "markdown",
   "metadata": {},
   "source": [
    "## Data Modelling\n"
   ]
  },
  {
   "cell_type": "code",
   "execution_count": 11,
   "metadata": {},
   "outputs": [],
   "source": [
    "data_schema = {\n",
    "    \"classes\": [\n",
    "        {\n",
    "            \"class\": \"Tweet\",\n",
    "            \"description\": \"A Twitter message\",\n",
    "            \"properties\": [\n",
    "                {\"name\": \"text\",\"dataType\": [\"text\"],\"description\": \"Content of the Tweet\"},\n",
    "                {\n",
    "                    \"name\": \"primaryCategory\",\n",
    "                    \"dataType\": [\"string\"],\n",
    "                    \"description\": \"The primary category the Tweet was labeled\"\n",
    "                },\n",
    "                {\n",
    "                    \"name\": \"secondaryCategory\",\n",
    "                    \"dataType\": [\"string\"],\n",
    "                    \"description\": \"The secondary category the Tweet was labeled\"\n",
    "                },\n",
    "                {\n",
    "                    \"name\": \"hasHashtags\",\n",
    "                    \"dataType\": [\"Hashtag\"]\n",
    "                },\n",
    "                {\n",
    "                    \"name\": \"hasMentions\",\n",
    "                    \"dataType\": [\"Mention\"]\n",
    "                }\n",
    "            ],\n",
    "            \"replicationConfig\": {\n",
    "                \"factor\": 2\n",
    "            },\n",
    "            \"shardingConfig\": {\n",
    "                \"desiredCount\": 1\n",
    "            }\n",
    "        },\n",
    "        {\n",
    "            \"class\": \"Hashtag\",\n",
    "            \"description\": \"A Hashtag used in Tweets\",\n",
    "            \"properties\": [\n",
    "                {\n",
    "                    \"name\": \"text\",\n",
    "                    \"dataType\": [\"string\"],\n",
    "                    \"description\": \"Content of the Hashtag\"\n",
    "                },\n",
    "                {\n",
    "                    \"name\": \"hasTweets\",\n",
    "                    \"dataType\": [\"Tweet\"]\n",
    "                }\n",
    "            ],\n",
    "            \"replicationConfig\": {\n",
    "                \"factor\": 2\n",
    "            },\n",
    "            \"shardingConfig\": {\n",
    "                \"desiredCount\": 1\n",
    "            }\n",
    "        },\n",
    "        {\n",
    "            \"class\": \"Mention\",\n",
    "            \"description\": \"A user mentioned in a Tweet\",\n",
    "            \"properties\": [\n",
    "                {\n",
    "                    \"name\": \"name\",\n",
    "                    \"dataType\": [\"string\"],\n",
    "                    \"description\": \"Name of the user\"\n",
    "                },\n",
    "                {\n",
    "                    \"name\": \"hasTweets\",\n",
    "                    \"dataType\": [\"Tweet\"]\n",
    "                }\n",
    "            ],\n",
    "            \"replicationConfig\": {\n",
    "                \"factor\": 2\n",
    "            },\n",
    "            \"shardingConfig\": {\n",
    "                \"desiredCount\": 1\n",
    "            }\n",
    "        }\n",
    "    ]\n",
    "}"
   ]
  },
  {
   "cell_type": "code",
   "execution_count": 12,
   "metadata": {},
   "outputs": [
    {
     "data": {
      "text/plain": [
       "{'classes': [{'class': 'Tweet',\n",
       "   'description': 'A Twitter message',\n",
       "   'invertedIndexConfig': {'bm25': {'b': 0.75, 'k1': 1.2},\n",
       "    'cleanupIntervalSeconds': 60,\n",
       "    'stopwords': {'additions': None, 'preset': 'en', 'removals': None}},\n",
       "   'moduleConfig': {'text2vec-transformers': {'poolingStrategy': 'masked_mean',\n",
       "     'vectorizeClassName': True}},\n",
       "   'properties': [{'dataType': ['text'],\n",
       "     'description': 'Content of the Tweet',\n",
       "     'moduleConfig': {'text2vec-transformers': {'skip': False,\n",
       "       'vectorizePropertyName': False}},\n",
       "     'name': 'text',\n",
       "     'tokenization': 'word'},\n",
       "    {'dataType': ['string'],\n",
       "     'description': 'The primary category the Tweet was labeled',\n",
       "     'moduleConfig': {'text2vec-transformers': {'skip': False,\n",
       "       'vectorizePropertyName': False}},\n",
       "     'name': 'primaryCategory',\n",
       "     'tokenization': 'word'},\n",
       "    {'dataType': ['string'],\n",
       "     'description': 'The secondary category the Tweet was labeled',\n",
       "     'moduleConfig': {'text2vec-transformers': {'skip': False,\n",
       "       'vectorizePropertyName': False}},\n",
       "     'name': 'secondaryCategory',\n",
       "     'tokenization': 'word'},\n",
       "    {'dataType': ['Hashtag'],\n",
       "     'moduleConfig': {'text2vec-transformers': {'skip': False,\n",
       "       'vectorizePropertyName': False}},\n",
       "     'name': 'hasHashtags'},\n",
       "    {'dataType': ['Mention'],\n",
       "     'moduleConfig': {'text2vec-transformers': {'skip': False,\n",
       "       'vectorizePropertyName': False}},\n",
       "     'name': 'hasMentions'}],\n",
       "   'replicationConfig': {'factor': 2},\n",
       "   'shardingConfig': {'virtualPerPhysical': 128,\n",
       "    'desiredCount': 1,\n",
       "    'actualCount': 1,\n",
       "    'desiredVirtualCount': 128,\n",
       "    'actualVirtualCount': 128,\n",
       "    'key': '_id',\n",
       "    'strategy': 'hash',\n",
       "    'function': 'murmur3'},\n",
       "   'vectorIndexConfig': {'skip': False,\n",
       "    'cleanupIntervalSeconds': 300,\n",
       "    'maxConnections': 64,\n",
       "    'efConstruction': 128,\n",
       "    'ef': -1,\n",
       "    'dynamicEfMin': 100,\n",
       "    'dynamicEfMax': 500,\n",
       "    'dynamicEfFactor': 8,\n",
       "    'vectorCacheMaxObjects': 1000000000000,\n",
       "    'flatSearchCutoff': 40000,\n",
       "    'distance': 'cosine'},\n",
       "   'vectorIndexType': 'hnsw',\n",
       "   'vectorizer': 'text2vec-transformers'},\n",
       "  {'class': 'Hashtag',\n",
       "   'description': 'A Hashtag used in Tweets',\n",
       "   'invertedIndexConfig': {'bm25': {'b': 0.75, 'k1': 1.2},\n",
       "    'cleanupIntervalSeconds': 60,\n",
       "    'stopwords': {'additions': None, 'preset': 'en', 'removals': None}},\n",
       "   'moduleConfig': {'text2vec-transformers': {'poolingStrategy': 'masked_mean',\n",
       "     'vectorizeClassName': True}},\n",
       "   'properties': [{'dataType': ['string'],\n",
       "     'description': 'Content of the Hashtag',\n",
       "     'moduleConfig': {'text2vec-transformers': {'skip': False,\n",
       "       'vectorizePropertyName': False}},\n",
       "     'name': 'text',\n",
       "     'tokenization': 'word'},\n",
       "    {'dataType': ['Tweet'],\n",
       "     'moduleConfig': {'text2vec-transformers': {'skip': False,\n",
       "       'vectorizePropertyName': False}},\n",
       "     'name': 'hasTweets'}],\n",
       "   'replicationConfig': {'factor': 2},\n",
       "   'shardingConfig': {'virtualPerPhysical': 128,\n",
       "    'desiredCount': 1,\n",
       "    'actualCount': 1,\n",
       "    'desiredVirtualCount': 128,\n",
       "    'actualVirtualCount': 128,\n",
       "    'key': '_id',\n",
       "    'strategy': 'hash',\n",
       "    'function': 'murmur3'},\n",
       "   'vectorIndexConfig': {'skip': False,\n",
       "    'cleanupIntervalSeconds': 300,\n",
       "    'maxConnections': 64,\n",
       "    'efConstruction': 128,\n",
       "    'ef': -1,\n",
       "    'dynamicEfMin': 100,\n",
       "    'dynamicEfMax': 500,\n",
       "    'dynamicEfFactor': 8,\n",
       "    'vectorCacheMaxObjects': 1000000000000,\n",
       "    'flatSearchCutoff': 40000,\n",
       "    'distance': 'cosine'},\n",
       "   'vectorIndexType': 'hnsw',\n",
       "   'vectorizer': 'text2vec-transformers'},\n",
       "  {'class': 'Mention',\n",
       "   'description': 'A user mentioned in a Tweet',\n",
       "   'invertedIndexConfig': {'bm25': {'b': 0.75, 'k1': 1.2},\n",
       "    'cleanupIntervalSeconds': 60,\n",
       "    'stopwords': {'additions': None, 'preset': 'en', 'removals': None}},\n",
       "   'moduleConfig': {'text2vec-transformers': {'poolingStrategy': 'masked_mean',\n",
       "     'vectorizeClassName': True}},\n",
       "   'properties': [{'dataType': ['string'],\n",
       "     'description': 'Name of the user',\n",
       "     'moduleConfig': {'text2vec-transformers': {'skip': False,\n",
       "       'vectorizePropertyName': False}},\n",
       "     'name': 'name',\n",
       "     'tokenization': 'word'},\n",
       "    {'dataType': ['Tweet'],\n",
       "     'moduleConfig': {'text2vec-transformers': {'skip': False,\n",
       "       'vectorizePropertyName': False}},\n",
       "     'name': 'hasTweets'}],\n",
       "   'replicationConfig': {'factor': 2},\n",
       "   'shardingConfig': {'virtualPerPhysical': 128,\n",
       "    'desiredCount': 1,\n",
       "    'actualCount': 1,\n",
       "    'desiredVirtualCount': 128,\n",
       "    'actualVirtualCount': 128,\n",
       "    'key': '_id',\n",
       "    'strategy': 'hash',\n",
       "    'function': 'murmur3'},\n",
       "   'vectorIndexConfig': {'skip': False,\n",
       "    'cleanupIntervalSeconds': 300,\n",
       "    'maxConnections': 64,\n",
       "    'efConstruction': 128,\n",
       "    'ef': -1,\n",
       "    'dynamicEfMin': 100,\n",
       "    'dynamicEfMax': 500,\n",
       "    'dynamicEfFactor': 8,\n",
       "    'vectorCacheMaxObjects': 1000000000000,\n",
       "    'flatSearchCutoff': 40000,\n",
       "    'distance': 'cosine'},\n",
       "   'vectorIndexType': 'hnsw',\n",
       "   'vectorizer': 'text2vec-transformers'}]}"
      ]
     },
     "execution_count": 12,
     "metadata": {},
     "output_type": "execute_result"
    }
   ],
   "source": [
    "try:\n",
    "    client.schema.create(data_schema)\n",
    "except:\n",
    "    print('Schema already defined')\n",
    "client.schema.get()\n"
   ]
  },
  {
   "cell_type": "code",
   "execution_count": 13,
   "metadata": {},
   "outputs": [
    {
     "name": "stderr",
     "output_type": "stream",
     "text": [
      "100%|██████████| 5009/5009 [00:21<00:00, 230.06it/s]\n"
     ]
    }
   ],
   "source": [
    "from weaviate.util import generate_uuid5\n",
    "hashtags = {}\n",
    "\n",
    "client.batch.configure(20, dynamic=True)\n",
    "with client.batch as batch:\n",
    "    for index, row in tqdm(df.iterrows(), total=df.shape[0]):\n",
    "        for hashtag in row['Hashtags']:\n",
    "            if hashtag not in hashtags:\n",
    "                entry = {\"text\": hashtag}\n",
    "                hashtag_uuid = generate_uuid5(entry, 'Hashtag')\n",
    "                batch.add_data_object(\n",
    "                    data_object=entry, class_name='Hashtag', uuid=hashtag_uuid)\n",
    "                hashtags[hashtag] = hashtag_uuid\n"
   ]
  },
  {
   "cell_type": "code",
   "execution_count": 14,
   "metadata": {},
   "outputs": [
    {
     "name": "stderr",
     "output_type": "stream",
     "text": [
      "100%|██████████| 5009/5009 [01:09<00:00, 72.38it/s] \n"
     ]
    }
   ],
   "source": [
    "mentions = {}\n",
    "\n",
    "client.batch.configure(20, dynamic=True)\n",
    "with client.batch as batch:\n",
    "    for index, row in tqdm(df.iterrows(), total=df.shape[0]):\n",
    "        for mention in row['Mentions']:\n",
    "            if mention not in mentions:\n",
    "                entry = {\"name\": mention}\n",
    "                mention_uuid = generate_uuid5(entry, 'Mention')\n",
    "                batch.add_data_object(\n",
    "                    data_object=entry, class_name='Mention', uuid=mention_uuid)\n",
    "                mentions[mention] = mention_uuid"
   ]
  },
  {
   "cell_type": "code",
   "execution_count": 15,
   "metadata": {},
   "outputs": [],
   "source": [
    "def add_tweet(batch: weaviate.batch.Batch, tweet: dict, hashtags: dict, mentions: dict) -> str:\n",
    "    data_object = {\n",
    "        \"text\": tweet[\"Tweet\"],\n",
    "        \"primaryCategory\": tweet[\"Primary_Category\"],\n",
    "        \"secondaryCategory\": tweet[\"Secondary_Category\"]\n",
    "    }\n",
    "    tweet_uuid = generate_uuid5(data_object, 'Tweet')\n",
    "    batch.add_data_object(data_object=data_object,\n",
    "                          class_name=\"Tweet\", uuid=tweet_uuid)\n",
    "\n",
    "    for hashtag in tweet['Hashtags']:\n",
    "        # Reference Tweet   --> Hashtag\n",
    "        batch.add_reference(from_object_uuid=tweet_uuid, from_object_class_name='Tweet',\n",
    "                            from_property_name='hasHashtags', to_object_uuid=hashtags[hashtag], to_object_class_name=\"Hashtag\")\n",
    "        # Reference Hashtag --> Tweet\n",
    "        batch.add_reference(from_object_uuid=hashtags[hashtag], from_object_class_name='Hashtag',\n",
    "                            from_property_name='hasTweets', to_object_uuid=tweet_uuid, to_object_class_name=\"Tweet\")\n",
    "    for mention in tweet['Mentions']:\n",
    "        # Reference Tweet   --> Mention\n",
    "        batch.add_reference(from_object_uuid=tweet_uuid, from_object_class_name='Tweet',\n",
    "                            from_property_name='hasMentions', to_object_uuid=mentions[mention], to_object_class_name=\"Mention\")\n",
    "        # Reference Mention --> Tweet\n",
    "        batch.add_reference(from_object_uuid=mentions[mention], from_object_class_name='Mention',\n",
    "                            from_property_name='hasTweets', to_object_uuid=tweet_uuid, to_object_class_name=\"Tweet\")"
   ]
  },
  {
   "cell_type": "code",
   "execution_count": 16,
   "metadata": {},
   "outputs": [
    {
     "name": "stderr",
     "output_type": "stream",
     "text": [
      "100%|██████████| 5009/5009 [08:06<00:00, 10.30it/s]\n"
     ]
    }
   ],
   "source": [
    "from tqdm import trange\n",
    "\n",
    "client.batch.configure(20, dynamic=True)\n",
    "\n",
    "with client.batch as batch:\n",
    "    for i in trange(len(df)):\n",
    "        add_tweet(batch, df.iloc[i], hashtags, mentions)\n"
   ]
  },
  {
   "cell_type": "code",
   "execution_count": 17,
   "metadata": {},
   "outputs": [
    {
     "name": "stdout",
     "output_type": "stream",
     "text": [
      "[{'_additional': {'id': '32a5077a-2c0a-5bf5-b5a9-ee67c386634b'}, 'hasMentions': [{'_additional': {'id': 'cf4b45a2-e7de-5631-b3d4-f16b8ac42d0a'}, 'name': '@jayxderxmensch'}, {'_additional': {'id': 'e2b3500b-4002-51b9-9b3b-dbb1f39b7725'}, 'name': '@jayxthexhuman'}], 'text': 'wieso -- was finden du da unklar --'}, {'_additional': {'id': '74d30983-ffa9-52e3-8010-3054bb55f61e'}, 'hasMentions': [{'_additional': {'id': '50dd5f6c-c8d0-5164-98e3-dc96c41b4402'}, 'name': '@Dirki_M'}], 'text': 'ja -- aber wo widersprechen die Zahl denn denen -- die im von uns verlinkt Artikel stehen -- in unser Tweet gehen es rein um Subs -- geschützt -- 2017 sein der gesamt Familiennachzug im Vergleich zu 2016 -- die Zahl -- die Hr -- Brandner bemühen -- übrigens leicht rückläufig sein --'}]\n"
     ]
    }
   ],
   "source": [
    "query = \"\"\"\n",
    "{\n",
    "  Get {\n",
    "    Tweet(limit: 2, where: {path: \"primaryCategory\", operator: Equal, valueString: \"OTHER\"}) {\n",
    "      _additional{\n",
    "        id\n",
    "      }\n",
    "      text\n",
    "      hasMentions {\n",
    "        ... on Mention {\n",
    "          _additional{\n",
    "            id\n",
    "          }\n",
    "          name\n",
    "        }\n",
    "      }\n",
    "    }\n",
    "  }\n",
    "}\n",
    "\"\"\"\n",
    "\n",
    "response = client.query.raw(query)\n",
    "tweet = response['data']['Get']['Tweet']\n",
    "print(tweet)\n",
    "\n",
    "entry_to_be_updated = tweet[0]\n",
    "object_id = entry_to_be_updated['_additional']['id']\n"
   ]
  },
  {
   "cell_type": "code",
   "execution_count": 18,
   "metadata": {},
   "outputs": [
    {
     "name": "stdout",
     "output_type": "stream",
     "text": [
      "204: \n",
      "{'data': {'Get': {'Tweet': [{'text': 'wieso -- was finden du da unklar --'}]}}}\n"
     ]
    }
   ],
   "source": [
    "result = requests.patch(f\"{WEAVIATE_URL}/v1/objects/Tweet/{object_id}\", data=json.dumps({\n",
    "                        \"text\": entry_to_be_updated[\"text\"]}), headers={\"Content-Type\": \"application/json\"})\n",
    "print(f\"{result.status_code}: {result.text}\")\n",
    "\n",
    "where_filter = {\"path\": [\"id\"], \"operator\": \"Equal\", \"valueString\": object_id}\n",
    "response = client.query.get(\"Tweet\", [\"text\"]).with_where(where_filter).do()\n",
    "print(response)"
   ]
  },
  {
   "cell_type": "code",
   "execution_count": 19,
   "metadata": {},
   "outputs": [],
   "source": [
    "# Delete an entry\n",
    "# object_id = entry_to_be_updated['hasMentions'][0][\"_additional\"][\"id\"]\n",
    "# print(object_id)\n",
    "# result = requests.delete(f\"{WEAVIATE_URL}/v1/objects/Mention/{object_id}\")\n",
    "# print(f\"{result.status_code}: {result.text}\")"
   ]
  },
  {
   "attachments": {},
   "cell_type": "markdown",
   "metadata": {},
   "source": [
    "## Inference & Testing\n"
   ]
  },
  {
   "cell_type": "code",
   "execution_count": 20,
   "metadata": {},
   "outputs": [
    {
     "name": "stderr",
     "output_type": "stream",
     "text": [
      "100%|██████████| 3398/3398 [00:00<00:00, 259046.95it/s]\n",
      "100%|██████████| 3398/3398 [00:00<00:00, 1700948.20it/s]\n",
      "100%|██████████| 3398/3398 [00:18<00:00, 184.41it/s]\n"
     ]
    },
    {
     "data": {
      "text/html": [
       "<div>\n",
       "<style scoped>\n",
       "    .dataframe tbody tr th:only-of-type {\n",
       "        vertical-align: middle;\n",
       "    }\n",
       "\n",
       "    .dataframe tbody tr th {\n",
       "        vertical-align: top;\n",
       "    }\n",
       "\n",
       "    .dataframe thead th {\n",
       "        text-align: right;\n",
       "    }\n",
       "</style>\n",
       "<table border=\"1\" class=\"dataframe\">\n",
       "  <thead>\n",
       "    <tr style=\"text-align: right;\">\n",
       "      <th></th>\n",
       "      <th>Tweet</th>\n",
       "      <th>Primary_Category</th>\n",
       "      <th>Secondary_Category</th>\n",
       "    </tr>\n",
       "  </thead>\n",
       "  <tbody>\n",
       "    <tr>\n",
       "      <th>0</th>\n",
       "      <td>mein Mutter haben mir erzählen -- dass mein Va...</td>\n",
       "      <td>OTHER</td>\n",
       "      <td>OTHER</td>\n",
       "    </tr>\n",
       "    <tr>\n",
       "      <th>1</th>\n",
       "      <td>mein Reaktion -- |lbr| nicht jeder Moslem sein...</td>\n",
       "      <td>OTHER</td>\n",
       "      <td>OTHER</td>\n",
       "    </tr>\n",
       "    <tr>\n",
       "      <th>2</th>\n",
       "      <td>Merkel rollen dem Emir von Katar -- der islami...</td>\n",
       "      <td>OTHER</td>\n",
       "      <td>OTHER</td>\n",
       "    </tr>\n",
       "    <tr>\n",
       "      <th>3</th>\n",
       "      <td>„ merlen sein kein jung unschuldig Mädchen “ K...</td>\n",
       "      <td>OTHER</td>\n",
       "      <td>OTHER</td>\n",
       "    </tr>\n",
       "    <tr>\n",
       "      <th>4</th>\n",
       "      <td>Asylantenflut bringen eben nur negativ für Deu...</td>\n",
       "      <td>OFFENSE</td>\n",
       "      <td>ABUSE</td>\n",
       "    </tr>\n",
       "  </tbody>\n",
       "</table>\n",
       "</div>"
      ],
      "text/plain": [
       "                                               Tweet Primary_Category  \\\n",
       "0  mein Mutter haben mir erzählen -- dass mein Va...            OTHER   \n",
       "1  mein Reaktion -- |lbr| nicht jeder Moslem sein...            OTHER   \n",
       "2  Merkel rollen dem Emir von Katar -- der islami...            OTHER   \n",
       "3  „ merlen sein kein jung unschuldig Mädchen “ K...            OTHER   \n",
       "4  Asylantenflut bringen eben nur negativ für Deu...          OFFENSE   \n",
       "\n",
       "  Secondary_Category  \n",
       "0              OTHER  \n",
       "1              OTHER  \n",
       "2              OTHER  \n",
       "3              OTHER  \n",
       "4              ABUSE  "
      ]
     },
     "execution_count": 20,
     "metadata": {},
     "output_type": "execute_result"
    }
   ],
   "source": [
    "df_test = pd.read_csv(\"./data/germeval2018.test.txt\", delimiter=\"\\t\",\n",
    "                      header=None, names=[\"Tweet\", \"Primary_Category\", \"Secondary_Category\"])\n",
    "df_test.Tweet = df_test.Tweet.progress_apply(remove_mentions)\n",
    "df_test.Tweet = df_test.Tweet.progress_apply(remove_hashtags)\n",
    "df_test.Tweet = df_test.Tweet.progress_apply(text_cleansing)\n",
    "df_test.head()\n"
   ]
  },
  {
   "cell_type": "code",
   "execution_count": 21,
   "metadata": {},
   "outputs": [
    {
     "name": "stdout",
     "output_type": "stream",
     "text": [
      "None\n"
     ]
    }
   ],
   "source": [
    "def predict_near_text(client: weaviate.client, text:str, certainty:float=0.75) -> tuple:\n",
    "    \"\"\"Perform a classification on given text.\n",
    "\n",
    "    Args:\n",
    "        client (weaviate.client): Weaviate client instance connected to the cluster\n",
    "        text (str): Text to be classified\n",
    "        certainty (float, optional): _description_. Defaults to 0.65.\n",
    "\n",
    "    Returns:\n",
    "        tuple: (primary_category, secondary_category)\n",
    "    \"\"\"\n",
    "    weaviate_result = client.query.get(class_name='Tweet', properties=[\"primaryCategory\", \"secondaryCategory\"]).with_limit(\n",
    "        1).with_near_text({\"concepts\": [text], \"certainty\": certainty}).do()\n",
    "\n",
    "    tweets = weaviate_result['data']['Get']['Tweet']\n",
    "    if len(tweets) > 0:\n",
    "        predicted_primary = tweets[0]['primaryCategory']\n",
    "        predicted_secondary = tweets[0]['secondaryCategory']\n",
    "        return (predicted_primary, predicted_secondary)\n",
    "    return None\n",
    "\n",
    "result = predict_near_text(client, \"Es war einmal\") \n",
    "print(result)"
   ]
  },
  {
   "cell_type": "code",
   "execution_count": 22,
   "metadata": {},
   "outputs": [
    {
     "data": {
      "text/plain": [
       "('OTHER', 'OTHER')"
      ]
     },
     "execution_count": 22,
     "metadata": {},
     "output_type": "execute_result"
    }
   ],
   "source": [
    "def predict_hybrid(client: weaviate.client, text:str, alpha: float=0.5) -> tuple:\n",
    "    \"\"\"Perforam a hybrid search based classification on given text.\n",
    "\n",
    "    Args:\n",
    "        client (weaviate.client): Weaviate client instance connected to the cluster\n",
    "        text (str): Text to be classified\n",
    "        alpha (float, optional): weighting for each search algorithm (alpha = 0 (sparse), alpha = 1 (dense). Defaults to 0.5.\n",
    "\n",
    "    Returns:\n",
    "        tuple: (primary_category, secondary_category)\n",
    "    \"\"\"\n",
    "    ab  = 2\n",
    "    query = \"\"\"\n",
    "        {{\n",
    "            Get {{\n",
    "                Tweet(\n",
    "                    hybrid: {{\n",
    "                        query: \"{0}\"\n",
    "                        alpha: {1}\n",
    "                    }})\n",
    "                {{\n",
    "                    _additional {{\n",
    "                        score\n",
    "                    }}\n",
    "                    primaryCategory\n",
    "                    secondaryCategory\n",
    "                }}\n",
    "            }}\n",
    "        }}\n",
    "    \"\"\".format(text, alpha)\n",
    "    weaviate_result = client.query.raw(query)\n",
    "\n",
    "    tweets = weaviate_result['data']['Get']['Tweet']\n",
    "    if len(tweets) > 0:\n",
    "        predicted_primary = tweets[0]['primaryCategory']\n",
    "        predicted_secondary = tweets[0]['secondaryCategory']\n",
    "        return (predicted_primary, predicted_secondary)\n",
    "    return None\n",
    "\n",
    "predict_hybrid(client, \"Hello World\")"
   ]
  },
  {
   "cell_type": "code",
   "execution_count": 23,
   "metadata": {},
   "outputs": [],
   "source": [
    "def run_test_data(predict_method, param: float):\n",
    "\n",
    "    correct_predictions_primary = 0\n",
    "    false_predictions_primary = 0\n",
    "\n",
    "    correct_predictions_secondary = 0\n",
    "    false_predictions_secondary = 0\n",
    "\n",
    "    no_result = 0\n",
    "\n",
    "    for i in trange(len(df_test)):\n",
    "        entry = df_test.iloc[i]\n",
    "        try:\n",
    "            prediction = predict_method(client, entry.Tweet, param)\n",
    "            if prediction != None:\n",
    "                (predicted_primary, predicted_secondary) = prediction\n",
    "                if predicted_primary == entry['Primary_Category']:\n",
    "                    correct_predictions_primary += 1\n",
    "                else:\n",
    "                    false_predictions_primary += 1\n",
    "\n",
    "                if predicted_secondary == entry['Secondary_Category']:\n",
    "                    correct_predictions_secondary += 1\n",
    "                else:\n",
    "                    false_predictions_secondary += 1    \n",
    "            else:\n",
    "                no_result += 1\n",
    "        except Exception as e:\n",
    "            print(f\"Error at Index: {i}\")\n",
    "\n",
    "    return {\n",
    "        \"accuracy_primary\": round(correct_predictions_primary/(correct_predictions_primary+false_predictions_primary)*100,2),\n",
    "        \"accuracy_secondary\": round(correct_predictions_secondary/(correct_predictions_secondary+false_predictions_secondary)*100,2),\n",
    "        \"not_found\": no_result\n",
    "    }\n"
   ]
  },
  {
   "cell_type": "code",
   "execution_count": 24,
   "metadata": {},
   "outputs": [
    {
     "name": "stderr",
     "output_type": "stream",
     "text": [
      "100%|██████████| 3398/3398 [04:01<00:00, 14.04it/s]\n",
      "100%|██████████| 3398/3398 [03:58<00:00, 14.23it/s]\n",
      "100%|██████████| 3398/3398 [04:13<00:00, 13.43it/s]\n",
      "100%|██████████| 3398/3398 [04:15<00:00, 13.32it/s]\n"
     ]
    },
    {
     "data": {
      "text/html": [
       "<div>\n",
       "<style scoped>\n",
       "    .dataframe tbody tr th:only-of-type {\n",
       "        vertical-align: middle;\n",
       "    }\n",
       "\n",
       "    .dataframe tbody tr th {\n",
       "        vertical-align: top;\n",
       "    }\n",
       "\n",
       "    .dataframe thead th {\n",
       "        text-align: right;\n",
       "    }\n",
       "</style>\n",
       "<table border=\"1\" class=\"dataframe\">\n",
       "  <thead>\n",
       "    <tr style=\"text-align: right;\">\n",
       "      <th></th>\n",
       "      <th>accuracy_primary</th>\n",
       "      <th>accuracy_secondary</th>\n",
       "      <th>not_found</th>\n",
       "    </tr>\n",
       "    <tr>\n",
       "      <th>certainty</th>\n",
       "      <th></th>\n",
       "      <th></th>\n",
       "      <th></th>\n",
       "    </tr>\n",
       "  </thead>\n",
       "  <tbody>\n",
       "    <tr>\n",
       "      <th>0.50</th>\n",
       "      <td>66.04</td>\n",
       "      <td>65.92</td>\n",
       "      <td>0</td>\n",
       "    </tr>\n",
       "    <tr>\n",
       "      <th>0.65</th>\n",
       "      <td>66.04</td>\n",
       "      <td>65.92</td>\n",
       "      <td>0</td>\n",
       "    </tr>\n",
       "    <tr>\n",
       "      <th>0.75</th>\n",
       "      <td>65.95</td>\n",
       "      <td>65.86</td>\n",
       "      <td>35</td>\n",
       "    </tr>\n",
       "    <tr>\n",
       "      <th>0.90</th>\n",
       "      <td>80.82</td>\n",
       "      <td>80.82</td>\n",
       "      <td>3179</td>\n",
       "    </tr>\n",
       "  </tbody>\n",
       "</table>\n",
       "</div>"
      ],
      "text/plain": [
       "           accuracy_primary  accuracy_secondary  not_found\n",
       "certainty                                                 \n",
       "0.50                  66.04               65.92          0\n",
       "0.65                  66.04               65.92          0\n",
       "0.75                  65.95               65.86         35\n",
       "0.90                  80.82               80.82       3179"
      ]
     },
     "execution_count": 24,
     "metadata": {},
     "output_type": "execute_result"
    }
   ],
   "source": [
    "certainties = [0.5, 0.65, 0.75, 0.9]\n",
    "results = []\n",
    "for certainty in certainties:\n",
    "    accuracy = run_test_data(predict_near_text, certainty)\n",
    "    results.append(accuracy)\n",
    "results_near_text = pd.DataFrame(data=results, index=certainties)\n",
    "results_near_text.index.name = \"certainty\"\n",
    "results_near_text.head()"
   ]
  },
  {
   "cell_type": "code",
   "execution_count": 25,
   "metadata": {},
   "outputs": [
    {
     "name": "stderr",
     "output_type": "stream",
     "text": [
      "100%|██████████| 3398/3398 [02:48<00:00, 20.19it/s]\n",
      "100%|██████████| 3398/3398 [06:39<00:00,  8.50it/s]\n",
      "100%|██████████| 3398/3398 [06:40<00:00,  8.48it/s]\n",
      "100%|██████████| 3398/3398 [06:39<00:00,  8.50it/s]\n",
      "100%|██████████| 3398/3398 [04:17<00:00, 13.21it/s]\n"
     ]
    },
    {
     "data": {
      "text/html": [
       "<div>\n",
       "<style scoped>\n",
       "    .dataframe tbody tr th:only-of-type {\n",
       "        vertical-align: middle;\n",
       "    }\n",
       "\n",
       "    .dataframe tbody tr th {\n",
       "        vertical-align: top;\n",
       "    }\n",
       "\n",
       "    .dataframe thead th {\n",
       "        text-align: right;\n",
       "    }\n",
       "</style>\n",
       "<table border=\"1\" class=\"dataframe\">\n",
       "  <thead>\n",
       "    <tr style=\"text-align: right;\">\n",
       "      <th></th>\n",
       "      <th>accuracy_primary</th>\n",
       "      <th>accuracy_secondary</th>\n",
       "      <th>not_found</th>\n",
       "    </tr>\n",
       "    <tr>\n",
       "      <th>alpha</th>\n",
       "      <th></th>\n",
       "      <th></th>\n",
       "      <th></th>\n",
       "    </tr>\n",
       "  </thead>\n",
       "  <tbody>\n",
       "    <tr>\n",
       "      <th>0.00</th>\n",
       "      <td>63.89</td>\n",
       "      <td>59.01</td>\n",
       "      <td>0</td>\n",
       "    </tr>\n",
       "    <tr>\n",
       "      <th>0.25</th>\n",
       "      <td>65.72</td>\n",
       "      <td>64.10</td>\n",
       "      <td>0</td>\n",
       "    </tr>\n",
       "    <tr>\n",
       "      <th>0.50</th>\n",
       "      <td>66.07</td>\n",
       "      <td>65.72</td>\n",
       "      <td>0</td>\n",
       "    </tr>\n",
       "    <tr>\n",
       "      <th>0.75</th>\n",
       "      <td>66.01</td>\n",
       "      <td>65.86</td>\n",
       "      <td>0</td>\n",
       "    </tr>\n",
       "    <tr>\n",
       "      <th>1.00</th>\n",
       "      <td>65.98</td>\n",
       "      <td>65.83</td>\n",
       "      <td>0</td>\n",
       "    </tr>\n",
       "  </tbody>\n",
       "</table>\n",
       "</div>"
      ],
      "text/plain": [
       "       accuracy_primary  accuracy_secondary  not_found\n",
       "alpha                                                 \n",
       "0.00              63.89               59.01          0\n",
       "0.25              65.72               64.10          0\n",
       "0.50              66.07               65.72          0\n",
       "0.75              66.01               65.86          0\n",
       "1.00              65.98               65.83          0"
      ]
     },
     "execution_count": 25,
     "metadata": {},
     "output_type": "execute_result"
    }
   ],
   "source": [
    "alphas = [0, 0.25, 0.5, 0.75, 1]\n",
    "results = []\n",
    "for alpha in alphas:\n",
    "    accuracy = run_test_data(predict_hybrid, alpha)\n",
    "    results.append(accuracy)\n",
    "results_hybrid = pd.DataFrame(data=results, index=alphas)\n",
    "results_hybrid.index.name = \"alpha\"\n",
    "results_hybrid.head()"
   ]
  }
 ],
 "metadata": {
  "kernelspec": {
   "display_name": "venv",
   "language": "python",
   "name": "python3"
  },
  "language_info": {
   "codemirror_mode": {
    "name": "ipython",
    "version": 3
   },
   "file_extension": ".py",
   "mimetype": "text/x-python",
   "name": "python",
   "nbconvert_exporter": "python",
   "pygments_lexer": "ipython3",
   "version": "3.10.7"
  },
  "orig_nbformat": 4,
  "vscode": {
   "interpreter": {
    "hash": "c5bd81d94fd149954746be146023c1a82d2659f6781ce15c988b29583a32bcb1"
   }
  }
 },
 "nbformat": 4,
 "nbformat_minor": 2
}
