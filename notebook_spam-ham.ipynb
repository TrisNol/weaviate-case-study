{
 "cells": [
  {
   "cell_type": "code",
   "execution_count": 1,
   "metadata": {},
   "outputs": [
    {
     "name": "stdout",
     "output_type": "stream",
     "text": [
      "{\"classes\": [{\"class\": \"Mails\", \"description\": \"Mails categorized as spam or ham\", \"invertedIndexConfig\": {\"bm25\": {\"b\": 0.75, \"k1\": 1.2}, \"cleanupIntervalSeconds\": 60, \"stopwords\": {\"additions\": null, \"preset\": \"en\", \"removals\": null}}, \"moduleConfig\": {\"text2vec-transformers\": {\"poolingStrategy\": \"masked_mean\", \"vectorizeClassName\": true}}, \"properties\": [{\"dataType\": [\"string\"], \"description\": \"Content of the mail\", \"moduleConfig\": {\"text2vec-transformers\": {\"skip\": false, \"vectorizePropertyName\": false}}, \"name\": \"text\", \"tokenization\": \"word\"}, {\"dataType\": [\"string\"], \"description\": \"The label of the mail\", \"moduleConfig\": {\"text2vec-transformers\": {\"skip\": false, \"vectorizePropertyName\": false}}, \"name\": \"label\", \"tokenization\": \"word\"}], \"shardingConfig\": {\"virtualPerPhysical\": 128, \"desiredCount\": 1, \"actualCount\": 1, \"desiredVirtualCount\": 128, \"actualVirtualCount\": 128, \"key\": \"_id\", \"strategy\": \"hash\", \"function\": \"murmur3\"}, \"vectorIndexConfig\": {\"skip\": false, \"cleanupIntervalSeconds\": 300, \"maxConnections\": 64, \"efConstruction\": 128, \"ef\": -1, \"dynamicEfMin\": 100, \"dynamicEfMax\": 500, \"dynamicEfFactor\": 8, \"vectorCacheMaxObjects\": 2000000, \"flatSearchCutoff\": 40000, \"distance\": \"cosine\"}, \"vectorIndexType\": \"hnsw\", \"vectorizer\": \"text2vec-transformers\"}]}\n"
     ]
    }
   ],
   "source": [
    "import weaviate\n",
    "import json\n",
    "\n",
    "client = weaviate.Client(\"http://localhost:8080\") # <== if you use Docker-compose\n",
    "\n",
    "schema = client.schema.get()\n",
    "print(json.dumps(schema))"
   ]
  },
  {
   "cell_type": "markdown",
   "metadata": {},
   "source": [
    "## Data Exploration\n",
    "\n",
    "[Source: Kaggle - Spam Mails Dataset](https://www.kaggle.com/datasets/venky73/spam-mails-dataset)"
   ]
  },
  {
   "cell_type": "code",
   "execution_count": 2,
   "metadata": {},
   "outputs": [],
   "source": [
    "import pandas as pd \n",
    "import numpy as np \n",
    "import matplotlib.pyplot as plt"
   ]
  },
  {
   "cell_type": "code",
   "execution_count": 3,
   "metadata": {},
   "outputs": [
    {
     "data": {
      "text/html": [
       "<div>\n",
       "<style scoped>\n",
       "    .dataframe tbody tr th:only-of-type {\n",
       "        vertical-align: middle;\n",
       "    }\n",
       "\n",
       "    .dataframe tbody tr th {\n",
       "        vertical-align: top;\n",
       "    }\n",
       "\n",
       "    .dataframe thead th {\n",
       "        text-align: right;\n",
       "    }\n",
       "</style>\n",
       "<table border=\"1\" class=\"dataframe\">\n",
       "  <thead>\n",
       "    <tr style=\"text-align: right;\">\n",
       "      <th></th>\n",
       "      <th>label</th>\n",
       "      <th>text</th>\n",
       "      <th>label_num</th>\n",
       "    </tr>\n",
       "  </thead>\n",
       "  <tbody>\n",
       "    <tr>\n",
       "      <th>605</th>\n",
       "      <td>ham</td>\n",
       "      <td>Subject: enron methanol ; meter # : 988291\\r\\n...</td>\n",
       "      <td>0</td>\n",
       "    </tr>\n",
       "    <tr>\n",
       "      <th>2349</th>\n",
       "      <td>ham</td>\n",
       "      <td>Subject: hpl nom for january 9 , 2001\\r\\n( see...</td>\n",
       "      <td>0</td>\n",
       "    </tr>\n",
       "    <tr>\n",
       "      <th>3624</th>\n",
       "      <td>ham</td>\n",
       "      <td>Subject: neon retreat\\r\\nho ho ho , we ' re ar...</td>\n",
       "      <td>0</td>\n",
       "    </tr>\n",
       "    <tr>\n",
       "      <th>4685</th>\n",
       "      <td>spam</td>\n",
       "      <td>Subject: photoshop , windows , office . cheap ...</td>\n",
       "      <td>1</td>\n",
       "    </tr>\n",
       "    <tr>\n",
       "      <th>2030</th>\n",
       "      <td>ham</td>\n",
       "      <td>Subject: re : indian springs\\r\\nthis deal is t...</td>\n",
       "      <td>0</td>\n",
       "    </tr>\n",
       "  </tbody>\n",
       "</table>\n",
       "</div>"
      ],
      "text/plain": [
       "     label                                               text  label_num\n",
       "605    ham  Subject: enron methanol ; meter # : 988291\\r\\n...          0\n",
       "2349   ham  Subject: hpl nom for january 9 , 2001\\r\\n( see...          0\n",
       "3624   ham  Subject: neon retreat\\r\\nho ho ho , we ' re ar...          0\n",
       "4685  spam  Subject: photoshop , windows , office . cheap ...          1\n",
       "2030   ham  Subject: re : indian springs\\r\\nthis deal is t...          0"
      ]
     },
     "execution_count": 3,
     "metadata": {},
     "output_type": "execute_result"
    }
   ],
   "source": [
    "df = pd.read_csv(\"./data/spam_ham_dataset.csv\",delimiter=\",\", index_col=0)\n",
    "df.head()"
   ]
  },
  {
   "cell_type": "code",
   "execution_count": 41,
   "metadata": {},
   "outputs": [
    {
     "data": {
      "text/html": [
       "<div>\n",
       "<style scoped>\n",
       "    .dataframe tbody tr th:only-of-type {\n",
       "        vertical-align: middle;\n",
       "    }\n",
       "\n",
       "    .dataframe tbody tr th {\n",
       "        vertical-align: top;\n",
       "    }\n",
       "\n",
       "    .dataframe thead th {\n",
       "        text-align: right;\n",
       "    }\n",
       "</style>\n",
       "<table border=\"1\" class=\"dataframe\">\n",
       "  <thead>\n",
       "    <tr style=\"text-align: right;\">\n",
       "      <th></th>\n",
       "      <th>label</th>\n",
       "      <th>text</th>\n",
       "    </tr>\n",
       "  </thead>\n",
       "  <tbody>\n",
       "    <tr>\n",
       "      <th>605</th>\n",
       "      <td>ham</td>\n",
       "      <td>Subject: enron methanol ; meter # : 988291\\r\\n...</td>\n",
       "    </tr>\n",
       "    <tr>\n",
       "      <th>2349</th>\n",
       "      <td>ham</td>\n",
       "      <td>Subject: hpl nom for january 9 , 2001\\r\\n( see...</td>\n",
       "    </tr>\n",
       "    <tr>\n",
       "      <th>3624</th>\n",
       "      <td>ham</td>\n",
       "      <td>Subject: neon retreat\\r\\nho ho ho , we ' re ar...</td>\n",
       "    </tr>\n",
       "    <tr>\n",
       "      <th>4685</th>\n",
       "      <td>spam</td>\n",
       "      <td>Subject: photoshop , windows , office . cheap ...</td>\n",
       "    </tr>\n",
       "    <tr>\n",
       "      <th>2030</th>\n",
       "      <td>ham</td>\n",
       "      <td>Subject: re : indian springs\\r\\nthis deal is t...</td>\n",
       "    </tr>\n",
       "  </tbody>\n",
       "</table>\n",
       "</div>"
      ],
      "text/plain": [
       "     label                                               text\n",
       "605    ham  Subject: enron methanol ; meter # : 988291\\r\\n...\n",
       "2349   ham  Subject: hpl nom for january 9 , 2001\\r\\n( see...\n",
       "3624   ham  Subject: neon retreat\\r\\nho ho ho , we ' re ar...\n",
       "4685  spam  Subject: photoshop , windows , office . cheap ...\n",
       "2030   ham  Subject: re : indian springs\\r\\nthis deal is t..."
      ]
     },
     "execution_count": 41,
     "metadata": {},
     "output_type": "execute_result"
    }
   ],
   "source": [
    "if \"label_num\" in df.columns:\n",
    "    df.drop(columns=['label_num'], inplace=True)\n",
    "df.head()"
   ]
  },
  {
   "cell_type": "code",
   "execution_count": 42,
   "metadata": {},
   "outputs": [
    {
     "data": {
      "text/plain": [
       "<AxesSubplot: >"
      ]
     },
     "execution_count": 42,
     "metadata": {},
     "output_type": "execute_result"
    },
    {
     "data": {
      "image/png": "[encoded data removed]",
      "text/plain": [
       "<Figure size 640x480 with 1 Axes>"
      ]
     },
     "metadata": {},
     "output_type": "display_data"
    }
   ],
   "source": [
    "df.label.value_counts().plot.bar()"
   ]
  },
  {
   "cell_type": "markdown",
   "metadata": {},
   "source": [
    "## Data Cleansing"
   ]
  },
  {
   "cell_type": "code",
   "execution_count": 43,
   "metadata": {},
   "outputs": [],
   "source": [
    "def remove_subject_line(text: str) -> str:\n",
    "    return \" \".join(text.split(\"\\n\")[1:]).replace(\"\\r\", \"\")"
   ]
  },
  {
   "cell_type": "code",
   "execution_count": 44,
   "metadata": {},
   "outputs": [
    {
     "name": "stderr",
     "output_type": "stream",
     "text": [
      "[nltk_data] Downloading package punkt to\n",
      "[nltk_data]     C:\\Users\\trist\\AppData\\Roaming\\nltk_data...\n",
      "[nltk_data]   Package punkt is already up-to-date!\n"
     ]
    },
    {
     "data": {
      "text/plain": [
       "True"
      ]
     },
     "execution_count": 44,
     "metadata": {},
     "output_type": "execute_result"
    }
   ],
   "source": [
    "import nltk\n",
    "nltk.download('punkt')"
   ]
  },
  {
   "cell_type": "code",
   "execution_count": 45,
   "metadata": {},
   "outputs": [],
   "source": [
    "from nltk.tokenize import word_tokenize\n",
    "from nltk.corpus import stopwords\n",
    "\n",
    "\n",
    "def text_cleansing(text: str) -> str:\n",
    "    # Remove subject header from mail\n",
    "    text = remove_subject_line(text)\n",
    "    # Tokenize text\n",
    "    text_tokens = word_tokenize(text)\n",
    "    # Filter out stopwords\n",
    "    text_tokens_filtered = [token for token in text_tokens if not token.lower() in stopwords.words('english')]\n",
    "    \n",
    "    return \" \".join(text_tokens_filtered)"
   ]
  },
  {
   "cell_type": "code",
   "execution_count": 46,
   "metadata": {},
   "outputs": [
    {
     "name": "stderr",
     "output_type": "stream",
     "text": [
      "100%|██████████| 5171/5171 [04:49<00:00, 17.83it/s]\n"
     ]
    }
   ],
   "source": [
    "from tqdm import tqdm\n",
    "tqdm.pandas()\n",
    "df.text = df['text'].progress_apply(text_cleansing)"
   ]
  },
  {
   "cell_type": "code",
   "execution_count": 68,
   "metadata": {},
   "outputs": [],
   "source": [
    "# Drop rows with empty text\n",
    "df = df[df['text'] != \"\"]"
   ]
  },
  {
   "cell_type": "code",
   "execution_count": 47,
   "metadata": {},
   "outputs": [
    {
     "data": {
      "text/html": [
       "<div>\n",
       "<style scoped>\n",
       "    .dataframe tbody tr th:only-of-type {\n",
       "        vertical-align: middle;\n",
       "    }\n",
       "\n",
       "    .dataframe tbody tr th {\n",
       "        vertical-align: top;\n",
       "    }\n",
       "\n",
       "    .dataframe thead th {\n",
       "        text-align: right;\n",
       "    }\n",
       "</style>\n",
       "<table border=\"1\" class=\"dataframe\">\n",
       "  <thead>\n",
       "    <tr style=\"text-align: right;\">\n",
       "      <th></th>\n",
       "      <th>label</th>\n",
       "      <th>text</th>\n",
       "    </tr>\n",
       "  </thead>\n",
       "  <tbody>\n",
       "    <tr>\n",
       "      <th>605</th>\n",
       "      <td>ham</td>\n",
       "      <td>follow note gave monday , 4 / 3 / 00 { prelimi...</td>\n",
       "    </tr>\n",
       "    <tr>\n",
       "      <th>2349</th>\n",
       "      <td>ham</td>\n",
       "      <td>( see attached file : hplnol 09 . xls ) - hpln...</td>\n",
       "    </tr>\n",
       "    <tr>\n",
       "      <th>3624</th>\n",
       "      <td>ham</td>\n",
       "      <td>ho ho ho , ' around wonderful time year - - - ...</td>\n",
       "    </tr>\n",
       "    <tr>\n",
       "      <th>4685</th>\n",
       "      <td>spam</td>\n",
       "      <td>abasements darer prudently fortuitous undergon...</td>\n",
       "    </tr>\n",
       "    <tr>\n",
       "      <th>2030</th>\n",
       "      <td>ham</td>\n",
       "      <td>deal book teco pvr revenue . understanding tec...</td>\n",
       "    </tr>\n",
       "  </tbody>\n",
       "</table>\n",
       "</div>"
      ],
      "text/plain": [
       "     label                                               text\n",
       "605    ham  follow note gave monday , 4 / 3 / 00 { prelimi...\n",
       "2349   ham  ( see attached file : hplnol 09 . xls ) - hpln...\n",
       "3624   ham  ho ho ho , ' around wonderful time year - - - ...\n",
       "4685  spam  abasements darer prudently fortuitous undergon...\n",
       "2030   ham  deal book teco pvr revenue . understanding tec..."
      ]
     },
     "execution_count": 47,
     "metadata": {},
     "output_type": "execute_result"
    }
   ],
   "source": [
    "df.head()"
   ]
  },
  {
   "cell_type": "code",
   "execution_count": 69,
   "metadata": {},
   "outputs": [],
   "source": [
    "df_train=df.sample(frac=0.8,random_state=42)\n",
    "df_test=df.drop(df_train.index)"
   ]
  },
  {
   "cell_type": "code",
   "execution_count": 70,
   "metadata": {},
   "outputs": [],
   "source": [
    "client.schema.delete_all()"
   ]
  },
  {
   "cell_type": "markdown",
   "metadata": {},
   "source": [
    "## Data Modelling"
   ]
  },
  {
   "cell_type": "code",
   "execution_count": 71,
   "metadata": {},
   "outputs": [
    {
     "data": {
      "text/plain": [
       "{'class': 'Mails',\n",
       " 'description': 'Mails categorized as spam or ham',\n",
       " 'invertedIndexConfig': {'bm25': {'b': 0.75, 'k1': 1.2},\n",
       "  'cleanupIntervalSeconds': 60,\n",
       "  'stopwords': {'additions': None, 'preset': 'en', 'removals': None}},\n",
       " 'moduleConfig': {'text2vec-transformers': {'poolingStrategy': 'masked_mean',\n",
       "   'vectorizeClassName': True}},\n",
       " 'properties': [{'dataType': ['string'],\n",
       "   'description': 'Content of the mail',\n",
       "   'moduleConfig': {'text2vec-transformers': {'skip': False,\n",
       "     'vectorizePropertyName': False}},\n",
       "   'name': 'text',\n",
       "   'tokenization': 'word'},\n",
       "  {'dataType': ['string'],\n",
       "   'description': 'The label of the mail',\n",
       "   'moduleConfig': {'text2vec-transformers': {'skip': False,\n",
       "     'vectorizePropertyName': False}},\n",
       "   'name': 'label',\n",
       "   'tokenization': 'word'}],\n",
       " 'shardingConfig': {'virtualPerPhysical': 128,\n",
       "  'desiredCount': 1,\n",
       "  'actualCount': 1,\n",
       "  'desiredVirtualCount': 128,\n",
       "  'actualVirtualCount': 128,\n",
       "  'key': '_id',\n",
       "  'strategy': 'hash',\n",
       "  'function': 'murmur3'},\n",
       " 'vectorIndexConfig': {'skip': False,\n",
       "  'cleanupIntervalSeconds': 300,\n",
       "  'maxConnections': 64,\n",
       "  'efConstruction': 128,\n",
       "  'ef': -1,\n",
       "  'dynamicEfMin': 100,\n",
       "  'dynamicEfMax': 500,\n",
       "  'dynamicEfFactor': 8,\n",
       "  'vectorCacheMaxObjects': 2000000,\n",
       "  'flatSearchCutoff': 40000,\n",
       "  'distance': 'cosine'},\n",
       " 'vectorIndexType': 'hnsw',\n",
       " 'vectorizer': 'text2vec-transformers'}"
      ]
     },
     "execution_count": 71,
     "metadata": {},
     "output_type": "execute_result"
    }
   ],
   "source": [
    "mail_schema = {\n",
    "    \"class\": \"mails\",\n",
    "    \"description\": \"Mails categorized as spam or ham\",\n",
    "    \"properties\": [\n",
    "        {\n",
    "            \"name\": \"text\",\n",
    "            \"dataType\": [\"string\"],\n",
    "            \"description\": \"Content of the mail\"\n",
    "        },\n",
    "        {\n",
    "            \"name\": \"label\",\n",
    "            \"dataType\": [\"string\"],\n",
    "            \"description\": \"The label of the mail\"        \n",
    "        }\n",
    "    ]\n",
    "}\n",
    "\n",
    "client.schema.create_class(mail_schema)\n",
    "client.schema.get('mails')"
   ]
  },
  {
   "cell_type": "code",
   "execution_count": 72,
   "metadata": {},
   "outputs": [],
   "source": [
    "def add_mail(batch: weaviate.batch.Batch, mail: dict) -> str:\n",
    "    mail_object = {\n",
    "        \"text\": mail[\"text\"],\n",
    "        \"label\": mail[\"label\"]\n",
    "    }\n",
    "    batch.add_data_object(data_object=mail_object, class_name=\"mails\")"
   ]
  },
  {
   "cell_type": "code",
   "execution_count": 73,
   "metadata": {},
   "outputs": [
    {
     "name": "stderr",
     "output_type": "stream",
     "text": [
      "100%|██████████| 500/500 [06:46<00:00,  1.23it/s]\n"
     ]
    }
   ],
   "source": [
    "from tqdm import trange\n",
    "\n",
    "with client.batch as batch:\n",
    "    for i in trange(500):\n",
    "        add_mail(batch, df_train.iloc[i])\n",
    "\n",
    "        # if i % 1 == 0:\n",
    "        batch.create_objects()"
   ]
  },
  {
   "cell_type": "code",
   "execution_count": 82,
   "metadata": {},
   "outputs": [
    {
     "name": "stderr",
     "output_type": "stream",
     "text": [
      "  2%|▎         | 5/200 [00:00<00:04, 42.80it/s]"
     ]
    },
    {
     "name": "stdout",
     "output_type": "stream",
     "text": [
      "Error at Index: 0\n",
      "Error at Index: 1\n",
      "Error at Index: 2\n",
      "Error at Index: 3\n",
      "Error at Index: 4\n",
      "Error at Index: 5\n",
      "Error at Index: 6\n",
      "Error at Index: 7\n"
     ]
    },
    {
     "name": "stderr",
     "output_type": "stream",
     "text": [
      "  7%|▋         | 14/200 [00:00<00:05, 33.75it/s]"
     ]
    },
    {
     "name": "stdout",
     "output_type": "stream",
     "text": [
      "Error at Index: 8\n",
      "Error at Index: 9\n",
      "Error at Index: 10\n",
      "Error at Index: 11\n",
      "Error at Index: 12\n",
      "Error at Index: 13\n",
      "Error at Index: 14\n"
     ]
    },
    {
     "name": "stderr",
     "output_type": "stream",
     "text": [
      " 11%|█         | 22/200 [00:00<00:05, 32.23it/s]"
     ]
    },
    {
     "name": "stdout",
     "output_type": "stream",
     "text": [
      "Error at Index: 15\n",
      "Error at Index: 16\n",
      "Error at Index: 17\n",
      "Error at Index: 18\n",
      "Error at Index: 19\n",
      "Error at Index: 20\n",
      "Error at Index: 21\n",
      "Error at Index: 22\n"
     ]
    },
    {
     "name": "stderr",
     "output_type": "stream",
     "text": [
      " 14%|█▎        | 27/200 [00:00<00:04, 36.53it/s]"
     ]
    },
    {
     "name": "stdout",
     "output_type": "stream",
     "text": [
      "Error at Index: 23\n",
      "Error at Index: 24\n",
      "Error at Index: 25\n",
      "Error at Index: 26\n",
      "Error at Index: 27\n",
      "Error at Index: 28\n",
      "Error at Index: 29\n"
     ]
    },
    {
     "name": "stderr",
     "output_type": "stream",
     "text": [
      " 18%|█▊        | 35/200 [00:00<00:04, 35.89it/s]"
     ]
    },
    {
     "name": "stdout",
     "output_type": "stream",
     "text": [
      "Error at Index: 30\n",
      "Error at Index: 31\n",
      "Error at Index: 32\n",
      "Error at Index: 33\n",
      "Error at Index: 34\n",
      "Error at Index: 35\n",
      "Error at Index: 36\n",
      "Error at Index: 37\n",
      "Error at Index: 38\n"
     ]
    },
    {
     "name": "stderr",
     "output_type": "stream",
     "text": [
      " 22%|██▏       | 44/200 [00:01<00:04, 35.55it/s]"
     ]
    },
    {
     "name": "stdout",
     "output_type": "stream",
     "text": [
      "Error at Index: 39\n",
      "Error at Index: 40\n",
      "Error at Index: 41\n",
      "Error at Index: 42\n",
      "Error at Index: 43\n",
      "Error at Index: 44\n",
      "Error at Index: 45\n",
      "Error at Index: 46\n"
     ]
    },
    {
     "name": "stderr",
     "output_type": "stream",
     "text": [
      " 24%|██▍       | 49/200 [00:01<00:04, 33.66it/s]"
     ]
    },
    {
     "name": "stdout",
     "output_type": "stream",
     "text": [
      "Error at Index: 47\n",
      "Error at Index: 48\n",
      "Error at Index: 49\n",
      "Error at Index: 50\n",
      "Error at Index: 51\n",
      "Error at Index: 52\n"
     ]
    },
    {
     "name": "stderr",
     "output_type": "stream",
     "text": [
      " 28%|██▊       | 57/200 [00:01<00:04, 32.95it/s]"
     ]
    },
    {
     "name": "stdout",
     "output_type": "stream",
     "text": [
      "Error at Index: 53\n",
      "Error at Index: 54\n",
      "Error at Index: 55\n",
      "Error at Index: 56\n",
      "Error at Index: 57\n",
      "Error at Index: 58\n",
      "Error at Index: 59\n",
      "Error at Index: 60\n"
     ]
    },
    {
     "name": "stderr",
     "output_type": "stream",
     "text": [
      " 33%|███▎      | 66/200 [00:01<00:03, 35.51it/s]"
     ]
    },
    {
     "name": "stdout",
     "output_type": "stream",
     "text": [
      "Error at Index: 61\n",
      "Error at Index: 62\n",
      "Error at Index: 63\n",
      "Error at Index: 64\n",
      "Error at Index: 65\n",
      "Error at Index: 66\n",
      "Error at Index: 67\n",
      "Error at Index: 68\n"
     ]
    },
    {
     "name": "stderr",
     "output_type": "stream",
     "text": [
      " 38%|███▊      | 75/200 [00:02<00:03, 36.41it/s]"
     ]
    },
    {
     "name": "stdout",
     "output_type": "stream",
     "text": [
      "Error at Index: 69\n",
      "Error at Index: 70\n",
      "Error at Index: 71\n",
      "Error at Index: 72\n",
      "Error at Index: 73\n",
      "Error at Index: 74\n",
      "Error at Index: 75\n",
      "Error at Index: 76\n",
      "Error at Index: 77\n"
     ]
    },
    {
     "name": "stderr",
     "output_type": "stream",
     "text": [
      " 42%|████▎     | 85/200 [00:02<00:03, 37.53it/s]"
     ]
    },
    {
     "name": "stdout",
     "output_type": "stream",
     "text": [
      "Error at Index: 78\n",
      "Error at Index: 79\n",
      "Error at Index: 80\n",
      "Error at Index: 81\n",
      "Error at Index: 82\n",
      "Error at Index: 83\n",
      "Error at Index: 84\n",
      "Error at Index: 85\n"
     ]
    },
    {
     "name": "stderr",
     "output_type": "stream",
     "text": [
      " 45%|████▌     | 90/200 [00:02<00:03, 36.34it/s]"
     ]
    },
    {
     "name": "stdout",
     "output_type": "stream",
     "text": [
      "Error at Index: 86\n",
      "Error at Index: 87\n",
      "Error at Index: 88\n",
      "Error at Index: 89\n",
      "Error at Index: 90\n",
      "Error at Index: 91\n",
      "Error at Index: 92\n",
      "Error at Index: 93\n"
     ]
    },
    {
     "name": "stderr",
     "output_type": "stream",
     "text": [
      " 50%|█████     | 100/200 [00:02<00:02, 41.28it/s]"
     ]
    },
    {
     "name": "stdout",
     "output_type": "stream",
     "text": [
      "Error at Index: 94\n",
      "Error at Index: 95\n",
      "Error at Index: 96\n",
      "Error at Index: 97\n",
      "Error at Index: 98\n",
      "Error at Index: 99\n",
      "Error at Index: 100\n",
      "Error at Index: 101\n"
     ]
    },
    {
     "name": "stderr",
     "output_type": "stream",
     "text": [
      " 52%|█████▎    | 105/200 [00:02<00:02, 39.50it/s]"
     ]
    },
    {
     "name": "stdout",
     "output_type": "stream",
     "text": [
      "Error at Index: 102\n",
      "Error at Index: 103\n",
      "Error at Index: 104\n",
      "Error at Index: 105\n",
      "Error at Index: 106\n",
      "Error at Index: 107\n",
      "Error at Index: 108\n",
      "Error at Index: 109\n"
     ]
    },
    {
     "name": "stderr",
     "output_type": "stream",
     "text": [
      " 57%|█████▊    | 115/200 [00:03<00:02, 36.79it/s]"
     ]
    },
    {
     "name": "stdout",
     "output_type": "stream",
     "text": [
      "Error at Index: 110\n",
      "Error at Index: 111\n",
      "Error at Index: 112\n",
      "Error at Index: 113\n",
      "Error at Index: 114\n",
      "Error at Index: 115\n",
      "Error at Index: 116\n",
      "Error at Index: 117\n"
     ]
    },
    {
     "name": "stderr",
     "output_type": "stream",
     "text": [
      " 60%|██████    | 121/200 [00:03<00:01, 40.76it/s]"
     ]
    },
    {
     "name": "stdout",
     "output_type": "stream",
     "text": [
      "Error at Index: 118\n",
      "Error at Index: 119\n",
      "Error at Index: 120\n",
      "Error at Index: 121\n",
      "Error at Index: 122\n",
      "Error at Index: 123\n",
      "Error at Index: 124\n",
      "Error at Index: 125\n"
     ]
    },
    {
     "name": "stderr",
     "output_type": "stream",
     "text": [
      " 65%|██████▌   | 130/200 [00:03<00:01, 35.40it/s]"
     ]
    },
    {
     "name": "stdout",
     "output_type": "stream",
     "text": [
      "Error at Index: 126\n",
      "Error at Index: 127\n",
      "Error at Index: 128\n",
      "Error at Index: 129\n",
      "Error at Index: 130\n",
      "Error at Index: 131\n"
     ]
    },
    {
     "name": "stderr",
     "output_type": "stream",
     "text": [
      " 70%|███████   | 140/200 [00:03<00:01, 41.37it/s]"
     ]
    },
    {
     "name": "stdout",
     "output_type": "stream",
     "text": [
      "Error at Index: 132\n",
      "Error at Index: 133\n",
      "Error at Index: 134\n",
      "Error at Index: 135\n",
      "Error at Index: 136\n",
      "Error at Index: 137\n",
      "Error at Index: 138\n",
      "Error at Index: 139\n",
      "Error at Index: 140\n",
      "Error at Index: 141\n",
      "Error at Index: 142\n"
     ]
    },
    {
     "name": "stderr",
     "output_type": "stream",
     "text": [
      " 75%|███████▌  | 150/200 [00:04<00:01, 41.56it/s]"
     ]
    },
    {
     "name": "stdout",
     "output_type": "stream",
     "text": [
      "Error at Index: 143\n",
      "Error at Index: 144\n",
      "Error at Index: 145\n",
      "Error at Index: 146\n",
      "Error at Index: 147\n",
      "Error at Index: 148\n",
      "Error at Index: 149\n",
      "Error at Index: 150\n"
     ]
    },
    {
     "name": "stderr",
     "output_type": "stream",
     "text": [
      " 78%|███████▊  | 155/200 [00:04<00:01, 38.77it/s]"
     ]
    },
    {
     "name": "stdout",
     "output_type": "stream",
     "text": [
      "Error at Index: 151\n",
      "Error at Index: 152\n",
      "Error at Index: 153\n",
      "Error at Index: 154\n",
      "Error at Index: 155\n",
      "Error at Index: 156\n",
      "Error at Index: 157\n",
      "Error at Index: 158\n"
     ]
    },
    {
     "name": "stderr",
     "output_type": "stream",
     "text": [
      " 84%|████████▍ | 169/200 [00:04<00:00, 39.06it/s]"
     ]
    },
    {
     "name": "stdout",
     "output_type": "stream",
     "text": [
      "Error at Index: 159\n",
      "Error at Index: 160\n",
      "Error at Index: 161\n",
      "Error at Index: 162\n",
      "Error at Index: 163\n",
      "Error at Index: 164\n",
      "Error at Index: 165\n",
      "Error at Index: 166\n",
      "Error at Index: 167\n",
      "Error at Index: 168\n",
      "Error at Index: 169\n"
     ]
    },
    {
     "name": "stderr",
     "output_type": "stream",
     "text": [
      " 87%|████████▋ | 174/200 [00:04<00:00, 36.81it/s]"
     ]
    },
    {
     "name": "stdout",
     "output_type": "stream",
     "text": [
      "Error at Index: 170\n",
      "Error at Index: 171\n",
      "Error at Index: 172\n",
      "Error at Index: 173\n",
      "Error at Index: 174\n",
      "Error at Index: 175\n",
      "Error at Index: 176\n",
      "Error at Index: 177\n"
     ]
    },
    {
     "name": "stderr",
     "output_type": "stream",
     "text": [
      " 94%|█████████▍| 188/200 [00:05<00:00, 41.20it/s]"
     ]
    },
    {
     "name": "stdout",
     "output_type": "stream",
     "text": [
      "Error at Index: 178\n",
      "Error at Index: 179\n",
      "Error at Index: 180\n",
      "Error at Index: 181\n",
      "Error at Index: 182\n",
      "Error at Index: 183\n",
      "Error at Index: 184\n",
      "Error at Index: 185\n",
      "Error at Index: 186\n",
      "Error at Index: 187\n"
     ]
    },
    {
     "name": "stderr",
     "output_type": "stream",
     "text": [
      " 96%|█████████▋| 193/200 [00:05<00:00, 38.87it/s]"
     ]
    },
    {
     "name": "stdout",
     "output_type": "stream",
     "text": [
      "Error at Index: 188\n",
      "Error at Index: 189\n",
      "Error at Index: 190\n",
      "Error at Index: 191\n",
      "Error at Index: 192\n",
      "Error at Index: 193\n",
      "Error at Index: 194\n",
      "Error at Index: 195\n"
     ]
    },
    {
     "name": "stderr",
     "output_type": "stream",
     "text": [
      "100%|██████████| 200/200 [00:05<00:00, 37.06it/s]"
     ]
    },
    {
     "name": "stdout",
     "output_type": "stream",
     "text": [
      "Error at Index: 196\n",
      "Error at Index: 197\n",
      "Error at Index: 198\n",
      "Error at Index: 199\n",
      "Correct: 0\n",
      "False: 0\n"
     ]
    },
    {
     "name": "stderr",
     "output_type": "stream",
     "text": [
      "\n"
     ]
    },
    {
     "ename": "ZeroDivisionError",
     "evalue": "division by zero",
     "output_type": "error",
     "traceback": [
      "\u001b[1;31m---------------------------------------------------------------------------\u001b[0m",
      "\u001b[1;31mZeroDivisionError\u001b[0m                         Traceback (most recent call last)",
      "Cell \u001b[1;32mIn [82], line 24\u001b[0m\n\u001b[0;32m     22\u001b[0m \u001b[39mprint\u001b[39m(\u001b[39mf\u001b[39m\u001b[39m\"\u001b[39m\u001b[39mCorrect: \u001b[39m\u001b[39m{\u001b[39;00mcorrect_predictions\u001b[39m}\u001b[39;00m\u001b[39m\"\u001b[39m)\n\u001b[0;32m     23\u001b[0m \u001b[39mprint\u001b[39m(\u001b[39mf\u001b[39m\u001b[39m\"\u001b[39m\u001b[39mFalse: \u001b[39m\u001b[39m{\u001b[39;00mfalse_predictions\u001b[39m}\u001b[39;00m\u001b[39m\"\u001b[39m)\n\u001b[1;32m---> 24\u001b[0m \u001b[39mprint\u001b[39m(\u001b[39mf\u001b[39m\u001b[39m\"\u001b[39m\u001b[39mAccuracy: \u001b[39m\u001b[39m{\u001b[39;00mcorrect_predictions\u001b[39m/\u001b[39m(correct_predictions\u001b[39m+\u001b[39mfalse_predictions)\u001b[39m}\u001b[39;00m\u001b[39m\"\u001b[39m)\n\u001b[0;32m     25\u001b[0m \u001b[39mprint\u001b[39m(\u001b[39mf\u001b[39m\u001b[39m\"\u001b[39m\u001b[39mNo result found: \u001b[39m\u001b[39m{\u001b[39;00mno_result\u001b[39m}\u001b[39;00m\u001b[39m\"\u001b[39m)\n",
      "\u001b[1;31mZeroDivisionError\u001b[0m: division by zero"
     ]
    }
   ],
   "source": [
    "correct_predictions = 0\n",
    "false_predictions = 0\n",
    "no_result = 0\n",
    "\n",
    "for i in trange(200):\n",
    "    entry = df_test.iloc[i]\n",
    "    try:\n",
    "        weaviate_result = client.query.get(class_name='Mails', properties=[\"label\"]).with_limit(1).with_near_text({\"concepts\": [entry.text], \"certainty\": 0.75}).do()\n",
    "\n",
    "        mails = weaviate_result['data']['Get']['Mails']\n",
    "        if len(mails) > 0:\n",
    "            predicted_label = mails[0]['label']\n",
    "            if predicted_label == entry['label']:\n",
    "                correct_predictions +=1\n",
    "            else:\n",
    "                false_predictions +=1\n",
    "        else:\n",
    "            no_result += 1\n",
    "    except Exception as e:\n",
    "        print(f\"Error at Index: {i}\")\n",
    "\n",
    "print(f\"Correct: {correct_predictions}\")\n",
    "print(f\"False: {false_predictions}\")\n",
    "print(f\"Accuracy: {correct_predictions/(correct_predictions+false_predictions)}\")\n",
    "print(f\"No result found: {no_result}\")\n"
   ]
  }
 ],
 "metadata": {
  "kernelspec": {
   "display_name": "Python 3.10.7 64-bit",
   "language": "python",
   "name": "python3"
  },
  "language_info": {
   "codemirror_mode": {
    "name": "ipython",
    "version": 3
   },
   "file_extension": ".py",
   "mimetype": "text/x-python",
   "name": "python",
   "nbconvert_exporter": "python",
   "pygments_lexer": "ipython3",
   "version": "3.10.7 (tags/v3.10.7:6cc6b13, Sep  5 2022, 14:08:36) [MSC v.1933 64 bit (AMD64)]"
  },
  "orig_nbformat": 4,
  "vscode": {
   "interpreter": {
    "hash": "369f2c481f4da34e4445cda3fffd2e751bd1c4d706f27375911949ba6bb62e1c"
   }
  }
 },
 "nbformat": 4,
 "nbformat_minor": 2
}
